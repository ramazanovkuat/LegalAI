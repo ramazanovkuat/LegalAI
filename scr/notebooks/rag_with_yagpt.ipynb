{
 "cells": [
  {
   "cell_type": "markdown",
   "metadata": {},
   "source": [
    "## Imports"
   ]
  },
  {
   "cell_type": "code",
   "execution_count": 1,
   "metadata": {},
   "outputs": [],
   "source": [
    "import os\n",
    "import pickle\n",
    "\n",
    "import langchain.chains\n",
    "import langchain.prompts\n",
    "from yandex_chain import YandexLLM, YandexGPTModel\n",
    "from langchain_core.output_parsers import StrOutputParser\n",
    "from langchain_core.runnables import RunnablePassthrough\n",
    "\n",
    "from langchain.retrievers import BM25Retriever, EnsembleRetriever\n",
    "from langchain.retrievers import ContextualCompressionRetriever\n",
    "from langchain.retrievers.document_compressors import CrossEncoderReranker\n",
    "from langchain_community.cross_encoders import HuggingFaceCrossEncoder\n",
    "\n",
    "from langchain.schema.runnable import RunnableMap\n",
    "from langchain.prompts import ChatPromptTemplate, PromptTemplate\n",
    "from langchain.schema import format_document\n",
    "from operator import itemgetter"
   ]
  },
  {
   "cell_type": "markdown",
   "metadata": {},
   "source": [
    "## Загрузка данных для ретрива\n",
    "\n",
    "- Загрузим с локального диска FAISS db, данные для BM25\n",
    "- Соберем в EnsembleRetriever\n",
    "- Загрузим модель реранка `BAAI/bge-reranker-v2-m3` (с диска или с интернета)\n",
    "- Создадим (с реранком и без) финальный ретривер"
   ]
  },
  {
   "cell_type": "markdown",
   "metadata": {},
   "source": [
    "#### Загрузка `FAISS` (проверить cpu/gpu)"
   ]
  },
  {
   "cell_type": "code",
   "execution_count": 105,
   "metadata": {},
   "outputs": [],
   "source": [
    "name_db = f\"FAISS_CPU_USER-bge-m3_RecursiveCharacter_CHUNK_SIZE_512\"\n",
    "load_path_db = f\"../../data/vector_dbs/{name_db}\"\n",
    "\n",
    "with open(load_path_db, 'rb') as f:\n",
    "    db = pickle.load(f)"
   ]
  },
  {
   "cell_type": "markdown",
   "metadata": {},
   "source": [
    "#### Загрузка данных для `BM25Retriever`"
   ]
  },
  {
   "cell_type": "code",
   "execution_count": 106,
   "metadata": {},
   "outputs": [],
   "source": [
    "name_chunked_documents_with_page_content = f\"chunked_documents_with_page_content_RecursiveCharacter_CHUNK_SIZE_512\"\n",
    "load_path_chunked_documents_with_page_content = f\"../../data/chunked_documents/{name_chunked_documents_with_page_content}\"\n",
    "\n",
    "with open(f'{load_path_chunked_documents_with_page_content}.pkl', 'rb') as f:\n",
    "    chunked_documents_with_page_content = pickle.load(f)  "
   ]
  },
  {
   "cell_type": "code",
   "execution_count": 107,
   "metadata": {},
   "outputs": [],
   "source": [
    "bm25_retriever = BM25Retriever.from_documents(\n",
    "    chunked_documents_with_page_content)"
   ]
  },
  {
   "cell_type": "markdown",
   "metadata": {},
   "source": [
    "### EnsembleRetriever"
   ]
  },
  {
   "cell_type": "code",
   "execution_count": 191,
   "metadata": {},
   "outputs": [],
   "source": [
    "num_docs = 3 # как аргумент фунции\n",
    "\n",
    "retriever = db.as_retriever(search_kwargs={\"k\": num_docs})\n",
    "bm25_retriever.k = num_docs\n",
    "\n",
    "# initialize the ensemble retriever\n",
    "vector_database = EnsembleRetriever(\n",
    "    retrievers=[bm25_retriever, retriever], weights=[0.5, 0.5] # You can adjust the weight of each retriever in the EnsembleRetriever\n",
    ")"
   ]
  },
  {
   "cell_type": "markdown",
   "metadata": {},
   "source": [
    "### Загрузка модели реранкера и создание финального ретривера"
   ]
  },
  {
   "cell_type": "code",
   "execution_count": 192,
   "metadata": {},
   "outputs": [],
   "source": [
    "reranker_model_name = \"BAAI/bge-reranker-v2-m3\"\n",
    "num_docs_rerank = 1 # как аргумент фунции\n",
    "\n",
    "model = HuggingFaceCrossEncoder(model_name=reranker_model_name)\n",
    "compressor = CrossEncoderReranker(model=model, top_n=num_docs_rerank)\n",
    "compression_retriever = ContextualCompressionRetriever(\n",
    "    base_compressor=compressor, base_retriever=vector_database)"
   ]
  },
  {
   "cell_type": "markdown",
   "metadata": {},
   "source": [
    "### Langchain с YandexGPT"
   ]
  },
  {
   "cell_type": "code",
   "execution_count": 187,
   "metadata": {},
   "outputs": [],
   "source": [
    "os.environ['folder_id'] = \"\"\n",
    "os.environ['api_key'] = \"\""
   ]
  },
  {
   "cell_type": "code",
   "execution_count": 196,
   "metadata": {},
   "outputs": [
    {
     "data": {
      "text/plain": [
       "'Чтобы получить ипотеку, нужно выполнить ряд действий:\\n\\n1. Выбрать подходящую ипотечную программу и условия в банке или иной кредитной организации.\\n2. Подготовить необходимые документы, включая подтверждение платёжеспособности и занятости.\\n3. Обратиться в банк или к иному кредитору с заявкой на ипотечный кредит.\\n4. Дождаться решения о предоставлении кредита и, если оно положительное, выбрать недвижимость для покупки.\\n5. Провести оценку стоимости недвижимости и оформить договор купли-продажи с продавцом.\\n6. Оформить договор страхования недвижимости и жизни (если это требуется условиями банка).\\n7. Собрать пакет документов для государственной регистрации ипотеки и подать его в Росреестр (в зависимости от условий могут потребоваться различные документы: заявления залогодателя и залогодержателя, договор управления залогом, договоры, на основании которых возникло обеспечиваемое ипотекой обязательство).  \\n\\nЭто общие шаги по получению ипотеки, которые могут отличаться в зависимости от требований банков, условий кредитов, характера сделки и других факторов. Рекомендуется проконсультироваться с юристом и специалистом по ипотеке, чтобы узнать подробности процедуры и требования конкретного банка.'"
      ]
     },
     "execution_count": 196,
     "metadata": {},
     "output_type": "execute_result"
    }
   ],
   "source": [
    "llm = YandexLLM(folder_id=os.environ['folder_id'],\n",
    "                api_key=os.environ['api_key'],\n",
    "                model=YandexGPTModel.Pro)\n",
    "\n",
    "prompt = \"\"\"\n",
    "Ты юридический консультант.\n",
    "Посмотри на текст ниже и ответь на вопрос, используя информацию из этого текста.\n",
    "Если текст не относится к вопросу, составь ответ не учитывая этот текст.\n",
    "Если в тексте указана статья, в ответе в самом начале укажи это.\n",
    "Ответ составь в формате простого текста, не используя markdown\n",
    "Текст:\n",
    "-----\n",
    "{context}\n",
    "-----\n",
    "Вопрос:\n",
    "{question}\"\"\"\n",
    "\n",
    "prompt = langchain.prompts.PromptTemplate(\n",
    "    template=prompt, input_variables=[\"context\", \"question\"]\n",
    ")\n",
    "\n",
    "def replace_non_breaking_spaces(text):\n",
    "    return text.replace('\\xa0', ' ')\n",
    "\n",
    "def replace_underscore(text):\n",
    "    return text.replace('_', ' ')\n",
    "\n",
    "def join_docs(docs):\n",
    "    return \"\\n\\n\".join(doc.page_content for doc in docs)\n",
    "\n",
    "# Создаём цепочку\n",
    "chain = (\n",
    "    {\"context\": compression_retriever | join_docs | replace_non_breaking_spaces | replace_underscore, \"question\": RunnablePassthrough()}\n",
    "    | prompt\n",
    "    | llm\n",
    "    | StrOutputParser()\n",
    ")\n",
    "\n",
    "q = 'Как получить ипотеку'\n",
    "\n",
    "chain.invoke(q)"
   ]
  },
  {
   "cell_type": "code",
   "execution_count": null,
   "metadata": {},
   "outputs": [],
   "source": []
  },
  {
   "cell_type": "code",
   "execution_count": null,
   "metadata": {},
   "outputs": [],
   "source": []
  },
  {
   "cell_type": "code",
   "execution_count": null,
   "metadata": {},
   "outputs": [],
   "source": []
  }
 ],
 "metadata": {
  "kernelspec": {
   "display_name": "legal",
   "language": "python",
   "name": "python3"
  },
  "language_info": {
   "codemirror_mode": {
    "name": "ipython",
    "version": 3
   },
   "file_extension": ".py",
   "mimetype": "text/x-python",
   "name": "python",
   "nbconvert_exporter": "python",
   "pygments_lexer": "ipython3",
   "version": "3.11.9"
  }
 },
 "nbformat": 4,
 "nbformat_minor": 2
}
