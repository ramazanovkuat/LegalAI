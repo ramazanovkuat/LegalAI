{
 "cells": [
  {
   "cell_type": "markdown",
   "metadata": {},
   "source": [
    "## Imports"
   ]
  },
  {
   "cell_type": "code",
   "execution_count": 1,
   "metadata": {
    "execution": {
     "iopub.execute_input": "2024-08-05T15:14:32.687152Z",
     "iopub.status.busy": "2024-08-05T15:14:32.686189Z",
     "iopub.status.idle": "2024-08-05T15:15:03.748175Z",
     "shell.execute_reply": "2024-08-05T15:15:03.747374Z",
     "shell.execute_reply.started": "2024-08-05T15:14:32.687109Z"
    },
    "tags": []
   },
   "outputs": [
    {
     "name": "stderr",
     "output_type": "stream",
     "text": [
      "/home/jupyter/.local/lib/python3.10/site-packages/transformers/utils/hub.py:127: FutureWarning: Using `TRANSFORMERS_CACHE` is deprecated and will be removed in v5 of Transformers. Use `HF_HOME` instead.\n",
      "  warnings.warn(\n",
      "2024-08-05 15:14:46.927193: I tensorflow/core/util/port.cc:110] oneDNN custom operations are on. You may see slightly different numerical results due to floating-point round-off errors from different computation orders. To turn them off, set the environment variable `TF_ENABLE_ONEDNN_OPTS=0`.\n",
      "2024-08-05 15:14:48.462196: I tensorflow/core/platform/cpu_feature_guard.cc:182] This TensorFlow binary is optimized to use available CPU instructions in performance-critical operations.\n",
      "To enable the following instructions: AVX2 AVX512F AVX512_VNNI FMA, in other operations, rebuild TensorFlow with the appropriate compiler flags.\n",
      "2024-08-05 15:14:53.275699: W tensorflow/compiler/tf2tensorrt/utils/py_utils.cc:38] TF-TRT Warning: Could not find TensorRT\n"
     ]
    }
   ],
   "source": [
    "from pathlib import Path, PosixPath\n",
    "from typing import List\n",
    "import torch\n",
    "import torch.nn.functional as F\n",
    "from torch import Tensor\n",
    "from langchain.docstore.document import Document\n",
    "from langchain_community.document_loaders import TextLoader\n",
    "\n",
    "import pickle\n",
    "import random\n",
    "from typing import List\n",
    "\n",
    "from langchain.text_splitter import RecursiveCharacterTextSplitter\n",
    "from langchain_core.embeddings import Embeddings\n",
    "from langchain.retrievers import BM25Retriever, EnsembleRetriever\n",
    "from langchain_core.runnables import ConfigurableField\n",
    "from langchain_community.vectorstores.utils import DistanceStrategy\n",
    "\n",
    "\n",
    "from langchain_huggingface import HuggingFaceEmbeddings\n",
    "from langchain_community.vectorstores import FAISS\n",
    "\n",
    "from transformers import AutoTokenizer, AutoModel\n",
    "\n",
    "from sentence_transformers import CrossEncoder"
   ]
  },
  {
   "cell_type": "markdown",
   "metadata": {},
   "source": [
    "## Chunking and Tokenizer"
   ]
  },
  {
   "cell_type": "markdown",
   "metadata": {},
   "source": [
    "- Проходим циклом по `codex`, `federal_laws`\n",
    "- Читаем документы через `TextLoader`\n",
    "- Разбиваем `RecursiveTextSplitter` на чанки\n",
    "- Возвращаем список токенов - `chunked_documents`"
   ]
  },
  {
   "cell_type": "markdown",
   "metadata": {},
   "source": [
    "### TextLoader"
   ]
  },
  {
   "cell_type": "code",
   "execution_count": 154,
   "metadata": {
    "execution": {
     "iopub.execute_input": "2024-08-05T14:47:47.929535Z",
     "iopub.status.busy": "2024-08-05T14:47:47.928418Z",
     "iopub.status.idle": "2024-08-05T14:47:47.973501Z",
     "shell.execute_reply": "2024-08-05T14:47:47.972802Z",
     "shell.execute_reply.started": "2024-08-05T14:47:47.929491Z"
    },
    "tags": []
   },
   "outputs": [],
   "source": [
    "# Папки с документами \n",
    "\n",
    "folder_codex = Path(\"../../data/codex\")\n",
    "folder_federal_laws = Path(\"../../data/federal_laws\")"
   ]
  },
  {
   "cell_type": "code",
   "execution_count": 4,
   "metadata": {
    "execution": {
     "iopub.execute_input": "2024-08-05T12:23:11.843360Z",
     "iopub.status.busy": "2024-08-05T12:23:11.842311Z",
     "iopub.status.idle": "2024-08-05T12:23:11.884166Z",
     "shell.execute_reply": "2024-08-05T12:23:11.883379Z",
     "shell.execute_reply.started": "2024-08-05T12:23:11.843304Z"
    },
    "tags": []
   },
   "outputs": [],
   "source": [
    "def get_raw_documents(folder: PosixPath) -> List[Document]:\n",
    "    \n",
    "    \"\"\"\n",
    "    Функция итерации по папке (ex.: codex / federal_laws), \n",
    "    в которой хранятся папки (ex.: Гражданский кодекс, Об АО), \n",
    "    в которых хранятся .txt файлы со статьями\n",
    "    \n",
    "    Возвращает список с документами в Document(langchain) формате\n",
    "    \"\"\"\n",
    "\n",
    "    raw_documents = []\n",
    "\n",
    "    for subfolder in folder.iterdir():\n",
    "        if not subfolder.name.startswith(\".\"):\n",
    "            for file in subfolder.iterdir():\n",
    "                if not file.name.startswith(\".\"):\n",
    "                    loader = TextLoader(file)\n",
    "                    raw_document = loader.load()\n",
    "                    raw_documents.extend(raw_document)\n",
    "                    \n",
    "    return raw_documents"
   ]
  },
  {
   "cell_type": "code",
   "execution_count": 5,
   "metadata": {
    "execution": {
     "iopub.execute_input": "2024-08-05T12:23:13.216558Z",
     "iopub.status.busy": "2024-08-05T12:23:13.215331Z",
     "iopub.status.idle": "2024-08-05T12:23:22.587174Z",
     "shell.execute_reply": "2024-08-05T12:23:22.586414Z",
     "shell.execute_reply.started": "2024-08-05T12:23:13.216521Z"
    },
    "tags": []
   },
   "outputs": [],
   "source": [
    "codex_raw_documents = get_raw_documents(folder_codex)\n",
    "federal_laws_raw_documents = get_raw_documents(folder_federal_laws)\n",
    "\n",
    "raw_documents = codex_raw_documents + federal_laws_raw_documents"
   ]
  },
  {
   "cell_type": "markdown",
   "metadata": {},
   "source": [
    "#### Может быть использована часть документов"
   ]
  },
  {
   "cell_type": "code",
   "execution_count": 35,
   "metadata": {
    "execution": {
     "iopub.execute_input": "2024-08-05T08:00:19.712536Z",
     "iopub.status.busy": "2024-08-05T08:00:19.711212Z",
     "iopub.status.idle": "2024-08-05T08:00:19.757738Z",
     "shell.execute_reply": "2024-08-05T08:00:19.756761Z",
     "shell.execute_reply.started": "2024-08-05T08:00:19.712483Z"
    },
    "tags": []
   },
   "outputs": [],
   "source": [
    "# raw_documents = random.sample(raw_documents, 10)"
   ]
  },
  {
   "cell_type": "markdown",
   "metadata": {
    "tags": []
   },
   "source": [
    "#### Сохранение модели и токенизотора локально"
   ]
  },
  {
   "cell_type": "code",
   "execution_count": 6,
   "metadata": {
    "execution": {
     "iopub.execute_input": "2024-08-05T07:46:55.633799Z",
     "iopub.status.busy": "2024-08-05T07:46:55.632625Z",
     "iopub.status.idle": "2024-08-05T07:46:55.647605Z",
     "shell.execute_reply": "2024-08-05T07:46:55.646809Z",
     "shell.execute_reply.started": "2024-08-05T07:46:55.633752Z"
    },
    "tags": []
   },
   "outputs": [],
   "source": [
    "# # Сохранение модели локально: \n",
    "\n",
    "# model_name = \"deepvk/USER-bge-m3\"\n",
    "\n",
    "# # Загрузите модель и токенизатор\n",
    "# model = AutoModel.from_pretrained(model_name)\n",
    "# tokenizer = AutoTokenizer.from_pretrained(model_name)\n",
    "\n",
    "# # Укажите путь, куда вы хотите сохранить модель и токенизатор\n",
    "# save_directory = \"../../models/USER-bge-m3\"\n",
    "\n",
    "# # Сохраните модель и токенизатор на локальном диске\n",
    "# model.save_pretrained(save_directory)\n",
    "# tokenizer.save_pretrained(save_directory)\n",
    "\n",
    "# print(f\"Модель и токенизатор сохранены в {save_directory}\")"
   ]
  },
  {
   "cell_type": "markdown",
   "metadata": {},
   "source": [
    "#### Загрузка модели и токенизатора "
   ]
  },
  {
   "cell_type": "code",
   "execution_count": 155,
   "metadata": {
    "execution": {
     "iopub.execute_input": "2024-08-05T14:47:55.672814Z",
     "iopub.status.busy": "2024-08-05T14:47:55.671745Z",
     "iopub.status.idle": "2024-08-05T14:49:27.836255Z",
     "shell.execute_reply": "2024-08-05T14:49:27.835520Z",
     "shell.execute_reply.started": "2024-08-05T14:47:55.672771Z"
    },
    "tags": []
   },
   "outputs": [],
   "source": [
    "### Загрузка USER-bge-m3 токенайзера\n",
    "\n",
    "path_to_model = \"../../models/USER-bge-m3\"\n",
    "\n",
    "tokenizer = AutoTokenizer.from_pretrained(path_to_model)\n",
    "model = AutoModel.from_pretrained(path_to_model)"
   ]
  },
  {
   "cell_type": "markdown",
   "metadata": {},
   "source": [
    "### RecursiveCharacterTextSplitter\n",
    "\n",
    "#### НУЖНО РАЗОБРАТЬСЯ КАК ЛУЧШЕ МОЖНО РАЗБИВАТЬ"
   ]
  },
  {
   "cell_type": "code",
   "execution_count": 3,
   "metadata": {
    "execution": {
     "iopub.execute_input": "2024-08-05T15:15:16.555914Z",
     "iopub.status.busy": "2024-08-05T15:15:16.554674Z",
     "iopub.status.idle": "2024-08-05T15:15:16.574188Z",
     "shell.execute_reply": "2024-08-05T15:15:16.573356Z",
     "shell.execute_reply.started": "2024-08-05T15:15:16.555864Z"
    },
    "tags": []
   },
   "outputs": [],
   "source": [
    "CHUNK_SIZE = 512"
   ]
  },
  {
   "cell_type": "code",
   "execution_count": 7,
   "metadata": {
    "execution": {
     "iopub.execute_input": "2024-08-05T12:23:28.364741Z",
     "iopub.status.busy": "2024-08-05T12:23:28.363416Z",
     "iopub.status.idle": "2024-08-05T12:23:28.380730Z",
     "shell.execute_reply": "2024-08-05T12:23:28.380012Z",
     "shell.execute_reply.started": "2024-08-05T12:23:28.364696Z"
    },
    "tags": []
   },
   "outputs": [],
   "source": [
    "# text_splitter = RecursiveCharacterTextSplitter(\n",
    "#     separators=' ', \n",
    "#     chunk_size=CHUNK_SIZE,\n",
    "#     chunk_overlap=int(CHUNK_SIZE / 5),\n",
    "#     strip_whitespace=True, # Если этот параметр установлен в True, то пробелы в начале и конце каждого фрагмента будут удалены.\n",
    "#     length_function=lambda x: len(tokenizer.encode(x, add_special_tokens=False)) # Не понимаю\n",
    "# )\n",
    "\n",
    "# chunked_documents_with_page_content = text_splitter.split_documents(raw_documents)\n",
    "\n",
    "# chunked_documents = [doc.page_content for doc in chunked_documents_with_page_content]\n",
    "\n",
    "# print(len(chunked_documents))"
   ]
  },
  {
   "cell_type": "markdown",
   "metadata": {},
   "source": [
    "#### Сохранение `chunked_documents` и `chunked_documents_with_page_content`"
   ]
  },
  {
   "cell_type": "code",
   "execution_count": 9,
   "metadata": {
    "execution": {
     "iopub.execute_input": "2024-08-05T11:59:07.986286Z",
     "iopub.status.busy": "2024-08-05T11:59:07.982226Z",
     "iopub.status.idle": "2024-08-05T11:59:08.831177Z",
     "shell.execute_reply": "2024-08-05T11:59:08.829704Z",
     "shell.execute_reply.started": "2024-08-05T11:59:07.986236Z"
    },
    "tags": []
   },
   "outputs": [],
   "source": [
    "# name_chunked_documents = f\"chunked_documents_RecursiveCharacter_CHUNK_SIZE_{CHUNK_SIZE}\"\n",
    "# save_path_chunked_documents = f\"../../data/chunked_documents/{name_chunked_documents}\"\n",
    "\n",
    "# name_chunked_documents_with_page_content = f\"chunked_documents_with_page_content_RecursiveCharacter_CHUNK_SIZE_{CHUNK_SIZE}\"\n",
    "# save_path_chunked_documents_with_page_content = f\"../../data/chunked_documents/{name_chunked_documents_with_page_content}\"\n",
    "\n",
    "# with open(f'{save_path_chunked_documents}.pkl', 'wb') as f:\n",
    "#     pickle.dump(chunked_documents, f)\n",
    "    \n",
    "# with open(f'{save_path_chunked_documents_with_page_content}.pkl', 'wb') as f:\n",
    "#     pickle.dump(chunked_documents_with_page_content, f)"
   ]
  },
  {
   "cell_type": "markdown",
   "metadata": {},
   "source": [
    "#### Загрузка `chunked_documents`"
   ]
  },
  {
   "cell_type": "code",
   "execution_count": 4,
   "metadata": {
    "execution": {
     "iopub.execute_input": "2024-08-05T15:15:18.828949Z",
     "iopub.status.busy": "2024-08-05T15:15:18.827820Z",
     "iopub.status.idle": "2024-08-05T15:15:20.451020Z",
     "shell.execute_reply": "2024-08-05T15:15:20.450073Z",
     "shell.execute_reply.started": "2024-08-05T15:15:18.828911Z"
    },
    "tags": []
   },
   "outputs": [],
   "source": [
    "name_chunked_documents = f\"chunked_documents_RecursiveCharacter_CHUNK_SIZE_{CHUNK_SIZE}\"\n",
    "load_path_chunked_documents = f\"../../data/chunked_documents/{name_chunked_documents}\"\n",
    "\n",
    "name_chunked_documents_with_page_content = f\"chunked_documents_with_page_content_RecursiveCharacter_CHUNK_SIZE_{CHUNK_SIZE}\"\n",
    "load_path_chunked_documents_with_page_content = f\"../../data/chunked_documents/{name_chunked_documents_with_page_content}\"\n",
    "\n",
    "with open(f'{load_path_chunked_documents}.pkl', 'rb') as f:\n",
    "    chunked_documents = pickle.load(f)   \n",
    "    \n",
    "with open(f'{load_path_chunked_documents_with_page_content}.pkl', 'rb') as f:\n",
    "    chunked_documents_with_page_content = pickle.load(f)  "
   ]
  },
  {
   "cell_type": "markdown",
   "metadata": {},
   "source": [
    "## Embedding, Storing and Retrieve "
   ]
  },
  {
   "cell_type": "markdown",
   "metadata": {},
   "source": [
    "- Загружаем эмбеддер (USER-bge-m3)\n",
    "- Считаем эмбеддинги и сохраняем в `FAISS`\n",
    "- Возвращаем `k` релевантных документов"
   ]
  },
  {
   "cell_type": "markdown",
   "metadata": {},
   "source": [
    "Приведен пример использования `multilingual-e5-large` модели\n",
    "\n",
    "Использование модели для расчета эмбеддингов с функцией `average_pool` взят с сайта\n",
    "https://huggingface.co/intfloat/multilingual-e5-large\n",
    "\n",
    "На сайте написано:\n",
    "\n",
    "__\"Each input text should start with \"query: \" or \"passage: \", even__ __for non-English texts.__ \n",
    "__#For tasks other than retrieval, you can simply use the \"query: \" prefix.\"__\n",
    "\n",
    "С этим надо разобраться, но я __добавил \"passage\":...__"
   ]
  },
  {
   "cell_type": "code",
   "execution_count": 10,
   "metadata": {},
   "outputs": [],
   "source": [
    "# model = AutoModel.from_pretrained(load_directory)\n",
    "\n",
    "# def average_pool(last_hidden_states: Tensor,\n",
    "#                  attention_mask: Tensor) -> Tensor:\n",
    "    \n",
    "#     \"\"\"\n",
    "#     Взято с https://huggingface.co/intfloat/multilingual-e5-large\n",
    "#     \"\"\"\n",
    "    \n",
    "#     last_hidden = last_hidden_states.masked_fill(~attention_mask[..., None].bool(), 0.0)\n",
    "#     return last_hidden.sum(dim=1) / attention_mask.sum(dim=1)[..., None]\n",
    "\n",
    "# def embed(input_texts):\n",
    "    \n",
    "#     \"\"\"\n",
    "#     Взято с https://huggingface.co/intfloat/multilingual-e5-large\n",
    "#     \"\"\"\n",
    "    \n",
    "#     batch_dict = tokenizer(input_texts, max_length=512, padding=True, truncation=True, return_tensors='pt')\n",
    "#     outputs = model(**batch_dict)\n",
    "#     embeddings = average_pool(outputs.last_hidden_state, batch_dict['attention_mask'])\n",
    "#     # normalize embeddings\n",
    "#     embeddings = F.normalize(embeddings, p=2, dim=1)\n",
    "#     return embeddings"
   ]
  },
  {
   "cell_type": "code",
   "execution_count": 38,
   "metadata": {
    "execution": {
     "iopub.execute_input": "2024-08-05T08:00:32.307317Z",
     "iopub.status.busy": "2024-08-05T08:00:32.305961Z",
     "iopub.status.idle": "2024-08-05T08:00:32.319548Z",
     "shell.execute_reply": "2024-08-05T08:00:32.318751Z",
     "shell.execute_reply.started": "2024-08-05T08:00:32.307256Z"
    },
    "tags": []
   },
   "outputs": [],
   "source": [
    "def embed(input_texts):\n",
    "    \"\"\"\n",
    "    Взято с https://huggingface.co/deepvk/USER-bge-m3\n",
    "    \"\"\"\n",
    "    \n",
    "    device = torch.device('cuda' if torch.cuda.is_available() else 'cpu')\n",
    "    print(f\"using {device}\")\n",
    "\n",
    "    encoded_input = tokenizer(input_texts, padding=True, truncation=True, return_tensors='pt')\n",
    "    encoded_input = {k: v.to(device) for k, v in encoded_input.items()}\n",
    "    \n",
    "    model.to(device)\n",
    "    model.eval()\n",
    "    \n",
    "    with torch.no_grad():\n",
    "        model_output = model(**encoded_input)\n",
    "    \n",
    "    # Perform pooling. In this case, cls pooling.\n",
    "    embeddings = model_output[0][:, 0]\n",
    "    # Normalize embeddings\n",
    "    embeddings = torch.nn.functional.normalize(embeddings, p=2, dim=1)\n",
    "\n",
    "    return embeddings"
   ]
  },
  {
   "cell_type": "code",
   "execution_count": 8,
   "metadata": {
    "execution": {
     "iopub.execute_input": "2024-08-05T08:47:19.197591Z",
     "iopub.status.busy": "2024-08-05T08:47:19.195968Z",
     "iopub.status.idle": "2024-08-05T08:47:19.227586Z",
     "shell.execute_reply": "2024-08-05T08:47:19.226465Z",
     "shell.execute_reply.started": "2024-08-05T08:47:19.197525Z"
    },
    "tags": []
   },
   "outputs": [],
   "source": [
    "def embed_batch(input_texts, batch_size=256):\n",
    "    \"\"\"\n",
    "    Взято с https://huggingface.co/deepvk/USER-bge-m3\n",
    "    \"\"\"\n",
    "    device = torch.device('cuda' if torch.cuda.is_available() else 'cpu')\n",
    "    print(f\"using {device}\")\n",
    "    \n",
    "    model.to(device)\n",
    "    model.eval()\n",
    "    \n",
    "    all_embeddings = []\n",
    "    \n",
    "    # Разбейте входные тексты на батчи\n",
    "    for i in range(0, len(input_texts), batch_size):\n",
    "        batch_texts = input_texts[i:i + batch_size]\n",
    "        \n",
    "        encoded_input = tokenizer(batch_texts, padding=True, truncation=True, return_tensors='pt')\n",
    "        encoded_input = {k: v.to(device) for k, v in encoded_input.items()}\n",
    "        \n",
    "        with torch.no_grad():\n",
    "            model_output = model(**encoded_input)\n",
    "        \n",
    "        # Perform pooling. In this case, cls pooling.\n",
    "        embeddings = model_output[0][:, 0]\n",
    "        # Normalize embeddings\n",
    "        embeddings = torch.nn.functional.normalize(embeddings, p=2, dim=1)\n",
    "        \n",
    "        # all_embeddings.append(embeddings.cpu())\n",
    "        all_embeddings.append(embeddings)\n",
    "    \n",
    "    # Объедините все батчи в один тензор\n",
    "    all_embeddings = torch.cat(all_embeddings, dim=0)\n",
    "    \n",
    "    return all_embeddings"
   ]
  },
  {
   "cell_type": "code",
   "execution_count": 9,
   "metadata": {
    "execution": {
     "iopub.execute_input": "2024-08-05T08:47:25.216822Z",
     "iopub.status.busy": "2024-08-05T08:47:25.215321Z",
     "iopub.status.idle": "2024-08-05T08:52:44.895165Z",
     "shell.execute_reply": "2024-08-05T08:52:44.893911Z",
     "shell.execute_reply.started": "2024-08-05T08:47:25.216760Z"
    }
   },
   "outputs": [
    {
     "name": "stdout",
     "output_type": "stream",
     "text": [
      "using cuda\n"
     ]
    }
   ],
   "source": [
    "# embeddings = embed_batch(chunked_documents, batch_size=256)"
   ]
  },
  {
   "cell_type": "code",
   "execution_count": 15,
   "metadata": {
    "execution": {
     "iopub.execute_input": "2024-08-05T09:04:38.270124Z",
     "iopub.status.busy": "2024-08-05T09:04:38.269055Z",
     "iopub.status.idle": "2024-08-05T09:04:38.287042Z",
     "shell.execute_reply": "2024-08-05T09:04:38.285766Z",
     "shell.execute_reply.started": "2024-08-05T09:04:38.270085Z"
    }
   },
   "outputs": [
    {
     "name": "stdout",
     "output_type": "stream",
     "text": [
      "Размер эмбеддингов: torch.Size([10307, 1024])\n"
     ]
    }
   ],
   "source": [
    "# print(f\"Размер эмбеддингов: {embeddings.shape}\")"
   ]
  },
  {
   "attachments": {
    "0f556f43-9b0b-4fd9-a25c-c59a95ef5a34.png": {
     "image/png": "[encoded data removed]"
    },
    "35e578c9-8030-487c-9819-6df39d2873a9.png": {
     "image/png": "[encoded data removed]"
    }
   },
   "cell_type": "markdown",
   "metadata": {},
   "source": [
    "Время расчета на ВМ с gpu (~300 р/ч) \n",
    "\n",
    "![image.png](attachment:35e578c9-8030-487c-9819-6df39d2873a9.png)\n",
    "![image.png](attachment:0f556f43-9b0b-4fd9-a25c-c59a95ef5a34.png)"
   ]
  },
  {
   "cell_type": "markdown",
   "metadata": {
    "execution": {
     "iopub.execute_input": "2024-08-05T08:56:08.302097Z",
     "iopub.status.busy": "2024-08-05T08:56:08.300586Z",
     "iopub.status.idle": "2024-08-05T08:56:08.332151Z",
     "shell.execute_reply": "2024-08-05T08:56:08.331021Z",
     "shell.execute_reply.started": "2024-08-05T08:56:08.302046Z"
    },
    "tags": []
   },
   "source": [
    "#### Сохранение `embeddings`"
   ]
  },
  {
   "cell_type": "code",
   "execution_count": 19,
   "metadata": {
    "execution": {
     "iopub.execute_input": "2024-08-05T09:11:58.782662Z",
     "iopub.status.busy": "2024-08-05T09:11:58.781378Z",
     "iopub.status.idle": "2024-08-05T09:11:59.123080Z",
     "shell.execute_reply": "2024-08-05T09:11:59.121895Z",
     "shell.execute_reply.started": "2024-08-05T09:11:58.782619Z"
    },
    "tags": []
   },
   "outputs": [],
   "source": [
    "# save_name_embeddings = f\"../../data/embeddings/USER-bge-m3/embeddings_batched_256\"\n",
    "\n",
    "# torch.save(embeddings.cpu(), f'{save_name_embeddings}.pt')"
   ]
  },
  {
   "cell_type": "markdown",
   "metadata": {},
   "source": [
    "#### Загрузка `embeddings`"
   ]
  },
  {
   "cell_type": "code",
   "execution_count": 20,
   "metadata": {
    "execution": {
     "iopub.execute_input": "2024-08-05T09:43:47.340283Z",
     "iopub.status.busy": "2024-08-05T09:43:47.339347Z",
     "iopub.status.idle": "2024-08-05T09:43:49.096023Z",
     "shell.execute_reply": "2024-08-05T09:43:49.095250Z",
     "shell.execute_reply.started": "2024-08-05T09:43:47.340254Z"
    },
    "tags": []
   },
   "outputs": [],
   "source": [
    "load_name_embeddings = f\"../../data/embeddings/USER-bge-m3/embeddings_batched_256\"\n",
    "\n",
    "embeddings_uploaded = torch.load(f'{load_name_embeddings}.pt')"
   ]
  },
  {
   "cell_type": "markdown",
   "metadata": {},
   "source": [
    "#### FAISS"
   ]
  },
  {
   "cell_type": "markdown",
   "metadata": {},
   "source": [
    "#### Ниже код с двумя примерами использования эмбеддера, более стабильный вариант - `HuggingFaceEmbeddings`\n",
    "\n",
    "Код основан на статье [Advanced RAG with Gemma and LangChain](https://www.kaggle.com/code/habibadoum/advanced-rag-with-gemma-and-langchain)"
   ]
  },
  {
   "cell_type": "code",
   "execution_count": 239,
   "metadata": {
    "execution": {
     "iopub.execute_input": "2024-08-05T11:42:37.181163Z",
     "iopub.status.busy": "2024-08-05T11:42:37.180013Z",
     "iopub.status.idle": "2024-08-05T11:42:37.194034Z",
     "shell.execute_reply": "2024-08-05T11:42:37.193436Z",
     "shell.execute_reply.started": "2024-08-05T11:42:37.181123Z"
    },
    "tags": []
   },
   "outputs": [],
   "source": [
    "# class Embedder_USER_bge_m3(Embeddings):\n",
    "    \n",
    "#     def __init__(self, tokenizer, smodel, batch_size):\n",
    "#         super().__init__()\n",
    "#         self.tokenizer = tokenizer\n",
    "#         self.model = model\n",
    "#         self.batch_size = batch_size\n",
    "    \n",
    "#     def embed(self, input_texts):\n",
    "#         \"\"\"\n",
    "#         Взято с https://huggingface.co/deepvk/USER-bge-m3\n",
    "#         \"\"\"\n",
    "#         batch_size = self.batch_size\n",
    "#         device = torch.device('cuda' if torch.cuda.is_available() else 'cpu')\n",
    "#         print(f\"using {device}\")\n",
    "\n",
    "#         model.to(device)\n",
    "#         model.eval()\n",
    "\n",
    "#         all_embeddings = []\n",
    "\n",
    "#         # Разбейте входные тексты на батчи\n",
    "#         for i in range(0, len(input_texts), batch_size):\n",
    "#             batch_texts = input_texts[i:i + batch_size]\n",
    "\n",
    "#             encoded_input = tokenizer(batch_texts, padding=True, truncation=True, return_tensors='pt')\n",
    "#             encoded_input = {k: v.to(device) for k, v in encoded_input.items()}\n",
    "\n",
    "#             with torch.no_grad():\n",
    "#                 model_output = model(**encoded_input)\n",
    "\n",
    "#             # Perform pooling. In this case, cls pooling.\n",
    "#             embeddings = model_output[0][:, 0]\n",
    "#             # Normalize embeddings\n",
    "#             embeddings = torch.nn.functional.normalize(embeddings, p=2, dim=1)\n",
    "\n",
    "#             all_embeddings.extend(embeddings.tolist())\n",
    "\n",
    "#         return all_embeddings\n",
    "\n",
    "#     def embed_documents(self, documents):\n",
    "#         return self.embed(documents)\n",
    "    \n",
    "#     def embed_query(self, text) -> List[float]:\n",
    "#         return self.embed([text])\n",
    "        \n",
    "# embd = Embedder(tokenizer, model, batch_size=3)\n",
    "\n",
    "# db = FAISS.from_texts(chunked_documents, embd, distance_strategy=DistanceStrategy.COSINE)"
   ]
  },
  {
   "cell_type": "code",
   "execution_count": 5,
   "metadata": {
    "execution": {
     "iopub.execute_input": "2024-08-05T15:15:32.836430Z",
     "iopub.status.busy": "2024-08-05T15:15:32.835398Z",
     "iopub.status.idle": "2024-08-05T15:17:08.611978Z",
     "shell.execute_reply": "2024-08-05T15:17:08.611222Z",
     "shell.execute_reply.started": "2024-08-05T15:15:32.836389Z"
    },
    "tags": []
   },
   "outputs": [
    {
     "name": "stdout",
     "output_type": "stream",
     "text": [
      "using cpu\n"
     ]
    }
   ],
   "source": [
    "device = torch.device('cuda' if torch.cuda.is_available() else 'cpu')\n",
    "print(f\"using {device}\")\n",
    "\n",
    "embedding_model = HuggingFaceEmbeddings(\n",
    "    model_name=\"deepvk/USER-bge-m3\",\n",
    "    model_kwargs={'device': device})"
   ]
  },
  {
   "cell_type": "code",
   "execution_count": 12,
   "metadata": {
    "execution": {
     "iopub.execute_input": "2024-08-05T12:01:23.360257Z",
     "iopub.status.busy": "2024-08-05T12:01:23.358921Z",
     "iopub.status.idle": "2024-08-05T12:05:35.522253Z",
     "shell.execute_reply": "2024-08-05T12:05:35.521034Z",
     "shell.execute_reply.started": "2024-08-05T12:01:23.360203Z"
    },
    "tags": []
   },
   "outputs": [],
   "source": [
    "# db = FAISS.from_texts(chunked_documents, embedding_model, distance_strategy=DistanceStrategy.COSINE)"
   ]
  },
  {
   "cell_type": "markdown",
   "metadata": {},
   "source": [
    "#### Сохранение `FAISS`\n",
    "\n",
    "NB: модель сохранена после обучения на gpu, при использовании ВМ с cpu db не загрузится c ошибкой:\n",
    "`RuntimeError: Attempting to deserialize object on a CUDA device but torch.cuda.is_available() is False. If you are running on a CPU-only machine, please use torch.load with map_location=torch.device('cpu') to map your storages to the CPU.`"
   ]
  },
  {
   "cell_type": "code",
   "execution_count": 14,
   "metadata": {
    "execution": {
     "iopub.execute_input": "2024-08-05T12:08:39.333311Z",
     "iopub.status.busy": "2024-08-05T12:08:39.331870Z",
     "iopub.status.idle": "2024-08-05T12:08:48.126012Z",
     "shell.execute_reply": "2024-08-05T12:08:48.124711Z",
     "shell.execute_reply.started": "2024-08-05T12:08:39.333270Z"
    },
    "tags": []
   },
   "outputs": [],
   "source": [
    "# name_db = f\"FAISS_GPU_USER-bge-m3_RecursiveCharacter_CHUNK_SIZE_{CHUNK_SIZE}\"\n",
    "# save_path_db = f\"../../data/vector_dbs/{name_db}\"\n",
    "\n",
    "# with open(save_path_db, 'wb') as f:\n",
    "#     pickle.dump(db, f)"
   ]
  },
  {
   "cell_type": "markdown",
   "metadata": {},
   "source": [
    "#### Сбор FAISS и сохранение db для cpu"
   ]
  },
  {
   "cell_type": "code",
   "execution_count": null,
   "metadata": {
    "execution": {
     "iopub.execute_input": "2024-08-05T15:17:08.614153Z",
     "iopub.status.busy": "2024-08-05T15:17:08.613271Z",
     "iopub.status.idle": "2024-08-05T17:34:20.920790Z"
    },
    "tags": []
   },
   "outputs": [],
   "source": [
    "# db_cpu = FAISS.from_texts(chunked_documents, embedding_model, distance_strategy=DistanceStrategy.COSINE)\n",
    "\n",
    "# name_db = f\"FAISS_CPU_USER-bge-m3_RecursiveCharacter_CHUNK_SIZE_{CHUNK_SIZE}\"\n",
    "# save_path_db = f\"../../data/vector_dbs/{name_db}\"\n",
    "\n",
    "# with open(save_path_db, 'wb') as f:\n",
    "#     pickle.dump(db_cpu, f)"
   ]
  },
  {
   "cell_type": "markdown",
   "metadata": {},
   "source": [
    "#### Загрузка `FAISS` (проверить cpu/gpu)"
   ]
  },
  {
   "cell_type": "code",
   "execution_count": 9,
   "metadata": {
    "execution": {
     "iopub.execute_input": "2024-08-05T18:04:53.499906Z",
     "iopub.status.busy": "2024-08-05T18:04:53.498666Z",
     "iopub.status.idle": "2024-08-05T18:04:56.341537Z",
     "shell.execute_reply": "2024-08-05T18:04:56.340738Z",
     "shell.execute_reply.started": "2024-08-05T18:04:53.499868Z"
    },
    "tags": []
   },
   "outputs": [],
   "source": [
    "name_db = f\"FAISS_CPU_USER-bge-m3_RecursiveCharacter_CHUNK_SIZE_{CHUNK_SIZE}\"\n",
    "load_path_db = f\"../../data/vector_dbs/{name_db}\"\n",
    "\n",
    "with open(load_path_db, 'rb') as f:\n",
    "    db = pickle.load(f)"
   ]
  },
  {
   "cell_type": "markdown",
   "metadata": {},
   "source": [
    "#### EnsembleRetriever"
   ]
  },
  {
   "cell_type": "code",
   "execution_count": 10,
   "metadata": {
    "execution": {
     "iopub.execute_input": "2024-08-05T18:05:10.838671Z",
     "iopub.status.busy": "2024-08-05T18:05:10.837448Z",
     "iopub.status.idle": "2024-08-05T18:05:10.849328Z",
     "shell.execute_reply": "2024-08-05T18:05:10.848648Z",
     "shell.execute_reply.started": "2024-08-05T18:05:10.838604Z"
    },
    "tags": []
   },
   "outputs": [],
   "source": [
    "retriever = db.as_retriever().configurable_fields(\n",
    "    search_kwargs=ConfigurableField(\n",
    "        id=\"search_kwargs_faiss\",\n",
    "        name=\"Search Kwargs\",\n",
    "        description=\"The search kwargs to use\",\n",
    "    )\n",
    ")"
   ]
  },
  {
   "cell_type": "code",
   "execution_count": 11,
   "metadata": {
    "execution": {
     "iopub.execute_input": "2024-08-05T18:05:11.836838Z",
     "iopub.status.busy": "2024-08-05T18:05:11.835732Z",
     "iopub.status.idle": "2024-08-05T18:05:12.970384Z",
     "shell.execute_reply": "2024-08-05T18:05:12.969553Z",
     "shell.execute_reply.started": "2024-08-05T18:05:11.836792Z"
    },
    "tags": []
   },
   "outputs": [],
   "source": [
    "bm25_retriever = BM25Retriever.from_documents(\n",
    "    chunked_documents_with_page_content\n",
    "    ).configurable_fields(\n",
    "    k=ConfigurableField(\n",
    "        id=\"search_kwargs_bm25\",\n",
    "        name=\"k\",\n",
    "        description=\"The search kwargs to use\",\n",
    "    )\n",
    ")"
   ]
  },
  {
   "cell_type": "code",
   "execution_count": 12,
   "metadata": {
    "execution": {
     "iopub.execute_input": "2024-08-05T18:05:15.404692Z",
     "iopub.status.busy": "2024-08-05T18:05:15.403549Z",
     "iopub.status.idle": "2024-08-05T18:05:15.422971Z",
     "shell.execute_reply": "2024-08-05T18:05:15.422064Z",
     "shell.execute_reply.started": "2024-08-05T18:05:15.404647Z"
    },
    "tags": []
   },
   "outputs": [],
   "source": [
    "# initialize the ensemble retriever\n",
    "vector_database = EnsembleRetriever(\n",
    "    retrievers=[bm25_retriever, retriever], weights=[0.5, 0.5] # You can adjust the weight of each retriever in the EnsembleRetriever\n",
    ")"
   ]
  },
  {
   "cell_type": "code",
   "execution_count": 14,
   "metadata": {
    "execution": {
     "iopub.execute_input": "2024-08-05T18:08:49.099860Z",
     "iopub.status.busy": "2024-08-05T18:08:49.098865Z",
     "iopub.status.idle": "2024-08-05T18:08:49.354451Z",
     "shell.execute_reply": "2024-08-05T18:08:49.353721Z",
     "shell.execute_reply.started": "2024-08-05T18:08:49.099827Z"
    },
    "tags": []
   },
   "outputs": [
    {
     "name": "stdout",
     "output_type": "stream",
     "text": [
      "----------------------Top document content----------------------\n",
      "Федеральный закон Об ипотеке. Статья 6. Право отдавать имущество в залог по договору об ипотеке. 1. Ипотека может быть установлена на указанное в статье 5 настоящего Федерального закона имущество, которое принадлежит залогодателю на праве собственности, а в случаях и в порядке, которые предусмотрены Гражданским кодексом Российской Федерации и другими федеральными законами, - на праве хозяйственного ведения или оперативного управления.2. Не допускается ипотека имущества, изъятого из оборота, имущества, на которое в соответствии с федеральным законом не может быть обращено взыскание, а также имущества, в отношении которого в установленном федеральным законом порядке предусмотрена обязательная приватизация либо приватизация которого запрещена.3. Если предметом ипотеки является имущество, на отчуждение которого требуется согласие или разрешение другого лица или органа, такое же согласие или разрешение необходимо для ипотеки этого имущества, за исключением ипотеки в силу закона.Решения о залоге недвижимого имущества, находящегося в государственной собственности и не закрепленного на праве хозяйственного ведения или оперативного управления, принимаются Правительством Российский# Федерации или правительством (администрацией) субъекта Российской Федерации.4. Право аренды может быть предметом ипотеки с согласия арендодателя, если федеральным законом или договором аренды не предусмотрено иное. В случаях, предусмотренных пунктом 3 статьи 335 Гражданского кодекса Российской Федерации, необходимо также согласие собственника арендованного имущества или лица, имеющего на него право хозяйственного ведения.5. Залог недвижимого имущества не является основанием для освобождения лица, выступившего залогодателем по договору об ипотеке, от выполнения им условий, на которых оно участвовало в инвестиционном (коммерческом) конкурсе, аукционе или иным образом в процессе приватизации имущества, являющегося предметом данного залога.6. Ипотека распространяется на все неотделимые улучшения предмета ипотеки, если иное не предусмотрено договором или настоящим Федеральным законом.\n",
      "----------------------Top document metadata----------------------\n",
      "{'source': '../../data/federal_laws/Об ипотеке/Об ипотеке_Статья 6.txt'}\n",
      "CPU times: user 435 ms, sys: 4.85 ms, total: 440 ms\n",
      "Wall time: 237 ms\n"
     ]
    }
   ],
   "source": [
    "%%time\n",
    "\n",
    "#  Пример работы\n",
    "num_docs = 50\n",
    "\n",
    "user_query = \"\"\"\n",
    "Ипотека\n",
    "\"\"\"\n",
    "config = {\"configurable\": {\"search_kwargs_faiss\": {\"k\": num_docs}, \"search_kwargs_bm25\": num_docs}}\n",
    "retrieved_docs = vector_database.invoke(user_query, config=config)\n",
    "print(\"----------------------Top document content----------------------\")\n",
    "print(retrieved_docs[0].page_content)\n",
    "print(\"----------------------Top document metadata----------------------\")\n",
    "print(retrieved_docs[0].metadata)"
   ]
  },
  {
   "cell_type": "markdown",
   "metadata": {},
   "source": [
    "## Reranking"
   ]
  },
  {
   "cell_type": "markdown",
   "metadata": {},
   "source": [
    "- Загружаем модель реранкер\n",
    "- Ранжируем документы\n",
    "- Возвращаем `n` релевантных документов"
   ]
  },
  {
   "cell_type": "code",
   "execution_count": 23,
   "metadata": {
    "execution": {
     "iopub.execute_input": "2024-08-05T13:08:34.910188Z",
     "iopub.status.busy": "2024-08-05T13:08:34.909232Z",
     "iopub.status.idle": "2024-08-05T13:08:34.951246Z",
     "shell.execute_reply": "2024-08-05T13:08:34.950387Z",
     "shell.execute_reply.started": "2024-08-05T13:08:34.910143Z"
    },
    "tags": []
   },
   "outputs": [
    {
     "name": "stdout",
     "output_type": "stream",
     "text": [
      "using cpu\n"
     ]
    }
   ],
   "source": [
    "device = torch.device('cuda' if torch.cuda.is_available() else 'cpu')\n",
    "print(f\"using {device}\")"
   ]
  },
  {
   "cell_type": "markdown",
   "metadata": {},
   "source": [
    "### `DiTy/cross-encoder-russian-msmarco`"
   ]
  },
  {
   "cell_type": "code",
   "execution_count": null,
   "metadata": {},
   "outputs": [],
   "source": [
    "# reranker_model = CrossEncoder('DiTy/cross-encoder-russian-msmarco', max_length=512, device=device)"
   ]
  },
  {
   "cell_type": "markdown",
   "metadata": {},
   "source": [
    "#### Сохранение реранкера"
   ]
  },
  {
   "cell_type": "code",
   "execution_count": 12,
   "metadata": {
    "execution": {
     "iopub.execute_input": "2024-08-05T13:04:52.095174Z",
     "iopub.status.busy": "2024-08-05T13:04:52.094113Z",
     "iopub.status.idle": "2024-08-05T13:04:57.011919Z",
     "shell.execute_reply": "2024-08-05T13:04:57.011137Z",
     "shell.execute_reply.started": "2024-08-05T13:04:52.095125Z"
    }
   },
   "outputs": [
    {
     "name": "stdout",
     "output_type": "stream",
     "text": [
      "Модель сохранена в ../../models/DiTy_cross-encoder-russian-msmarco\n"
     ]
    }
   ],
   "source": [
    "# # Укажите путь, куда вы хотите сохранить модель и токенизатор\n",
    "# save_directory = \"../../models/DiTy_cross-encoder-russian-msmarco\"\n",
    "\n",
    "# # Сохраните модель на локальном диске\n",
    "# reranker_model.save_pretrained(save_directory)\n",
    "\n",
    "# print(f\"Модель сохранена в {save_directory}\")"
   ]
  },
  {
   "cell_type": "markdown",
   "metadata": {
    "execution": {
     "iopub.execute_input": "2024-08-05T13:05:49.553539Z",
     "iopub.status.busy": "2024-08-05T13:05:49.552479Z",
     "iopub.status.idle": "2024-08-05T13:05:49.575548Z",
     "shell.execute_reply": "2024-08-05T13:05:49.574906Z",
     "shell.execute_reply.started": "2024-08-05T13:05:49.553500Z"
    }
   },
   "source": [
    "#### Загрузка реранкера локально"
   ]
  },
  {
   "cell_type": "code",
   "execution_count": 139,
   "metadata": {
    "execution": {
     "iopub.execute_input": "2024-08-05T14:42:33.588951Z",
     "iopub.status.busy": "2024-08-05T14:42:33.587829Z",
     "iopub.status.idle": "2024-08-05T14:42:34.046603Z",
     "shell.execute_reply": "2024-08-05T14:42:34.045717Z",
     "shell.execute_reply.started": "2024-08-05T14:42:33.588914Z"
    },
    "tags": []
   },
   "outputs": [],
   "source": [
    "path_to_model = \"../../models/DiTy_cross-encoder-russian-msmarco\"\n",
    "\n",
    "reranker_dity = CrossEncoder(path_to_model, max_length=512, device=device)"
   ]
  },
  {
   "cell_type": "markdown",
   "metadata": {},
   "source": [
    "### `xlm-roberta-base`\n",
    "\n",
    "https://huggingface.co/FacebookAI/xlm-roberta-base"
   ]
  },
  {
   "cell_type": "code",
   "execution_count": 140,
   "metadata": {
    "execution": {
     "iopub.execute_input": "2024-08-05T14:42:37.266597Z",
     "iopub.status.busy": "2024-08-05T14:42:37.265628Z",
     "iopub.status.idle": "2024-08-05T14:42:38.873560Z",
     "shell.execute_reply": "2024-08-05T14:42:38.872785Z",
     "shell.execute_reply.started": "2024-08-05T14:42:37.266551Z"
    },
    "tags": []
   },
   "outputs": [
    {
     "name": "stderr",
     "output_type": "stream",
     "text": [
      "Some weights of XLMRobertaForSequenceClassification were not initialized from the model checkpoint at xlm-roberta-base and are newly initialized: ['classifier.dense.bias', 'classifier.dense.weight', 'classifier.out_proj.bias', 'classifier.out_proj.weight']\n",
      "You should probably TRAIN this model on a down-stream task to be able to use it for predictions and inference.\n"
     ]
    }
   ],
   "source": [
    "reranker_xlm = CrossEncoder(\"xlm-roberta-base\", max_length=512, device=device)"
   ]
  },
  {
   "cell_type": "markdown",
   "metadata": {},
   "source": [
    "### Определение функции реранка"
   ]
  },
  {
   "cell_type": "code",
   "execution_count": 141,
   "metadata": {
    "execution": {
     "iopub.execute_input": "2024-08-05T14:42:42.371861Z",
     "iopub.status.busy": "2024-08-05T14:42:42.371011Z",
     "iopub.status.idle": "2024-08-05T14:42:42.384968Z",
     "shell.execute_reply": "2024-08-05T14:42:42.384286Z",
     "shell.execute_reply.started": "2024-08-05T14:42:42.371816Z"
    },
    "tags": []
   },
   "outputs": [],
   "source": [
    "def get_reranked_docs(query: str, \n",
    "                      retrieved_docs: Document, \n",
    "                      reranker_model,\n",
    "                      k: int = 5) -> List:\n",
    "    \n",
    "    documents = [doc.page_content for doc in retrieved_docs]\n",
    "    rank_result = reranker_model.rank(query[0], documents)\n",
    "    k_documents = [documents[int(doc['corpus_id'])] for doc in rank_result[:k]]\n",
    "    \n",
    "    return k_documents"
   ]
  },
  {
   "cell_type": "markdown",
   "metadata": {},
   "source": [
    "#### Сравнение реранкеров"
   ]
  },
  {
   "cell_type": "code",
   "execution_count": 142,
   "metadata": {
    "execution": {
     "iopub.execute_input": "2024-08-05T14:42:48.540866Z",
     "iopub.status.busy": "2024-08-05T14:42:48.539714Z",
     "iopub.status.idle": "2024-08-05T14:42:48.551410Z",
     "shell.execute_reply": "2024-08-05T14:42:48.550776Z",
     "shell.execute_reply.started": "2024-08-05T14:42:48.540822Z"
    },
    "tags": []
   },
   "outputs": [],
   "source": [
    "random_ids = [3657, 2286, 1679, 8935, 1424, 9674, 6912, 520, 488, 1535]"
   ]
  },
  {
   "cell_type": "code",
   "execution_count": 143,
   "metadata": {
    "execution": {
     "iopub.execute_input": "2024-08-05T14:42:48.554155Z",
     "iopub.status.busy": "2024-08-05T14:42:48.553290Z",
     "iopub.status.idle": "2024-08-05T14:42:48.568912Z",
     "shell.execute_reply": "2024-08-05T14:42:48.568309Z",
     "shell.execute_reply.started": "2024-08-05T14:42:48.554112Z"
    },
    "tags": []
   },
   "outputs": [],
   "source": [
    "query = \"Что будет, если я не оплачу чек?\""
   ]
  },
  {
   "cell_type": "code",
   "execution_count": 144,
   "metadata": {
    "execution": {
     "iopub.execute_input": "2024-08-05T14:42:48.571082Z",
     "iopub.status.busy": "2024-08-05T14:42:48.570596Z",
     "iopub.status.idle": "2024-08-05T14:42:48.588018Z",
     "shell.execute_reply": "2024-08-05T14:42:48.587326Z",
     "shell.execute_reply.started": "2024-08-05T14:42:48.571059Z"
    },
    "tags": []
   },
   "outputs": [
    {
     "data": {
      "text/plain": [
       "Document(metadata={'source': '../../data/codex/Гражданский кодекс/Гражданский кодекс_Статья 885.txt'}, page_content='Гражданский кодекс. Статья 885. Последствия неоплаты чека. 1. В случае отказа плательщика от оплаты чека чекодержатель вправе по своему выбору предъявить иск к одному, нескольким или ко всем обязанным по чеку лицам (чекодателю, авалистам, индоссантам), которые несут перед ним солидарную ответственность.2. Чекодержатель вправе потребовать от указанных лиц оплаты суммы чека, своих издержек на получение оплаты, а также процентов в соответствии с пунктом 1 статьи 395 настоящего Кодекса.Такое же право принадлежит обязанному по чеку лицу после того, как оно оплатило чек.3. Иск чекодержателя к лицам, указанным в пункте 1 настоящей статьи, может быть предъявлен в течение шести месяцев со дня окончания срока предъявления чека к платежу. Регрессные требования по искам обязанных лиц друг к другу погашаются с истечением шести месяцев со дня, когда соответствующее обязанное лицо удовлетворило требование, или со дня предъявления ему иска.')"
      ]
     },
     "execution_count": 144,
     "metadata": {},
     "output_type": "execute_result"
    }
   ],
   "source": [
    "chunked_documents_with_page_content[2286]"
   ]
  },
  {
   "cell_type": "code",
   "execution_count": 145,
   "metadata": {
    "execution": {
     "iopub.execute_input": "2024-08-05T14:42:48.933266Z",
     "iopub.status.busy": "2024-08-05T14:42:48.932286Z",
     "iopub.status.idle": "2024-08-05T14:42:48.949058Z",
     "shell.execute_reply": "2024-08-05T14:42:48.948300Z",
     "shell.execute_reply.started": "2024-08-05T14:42:48.933224Z"
    },
    "tags": []
   },
   "outputs": [],
   "source": [
    "subset_docs_with_page_content = [chunked_documents_with_page_content[i] for i in random_ids]\n",
    "# subset_docs = [doc.page_content for doc in subset_docs_with_page_content]"
   ]
  },
  {
   "cell_type": "code",
   "execution_count": 146,
   "metadata": {
    "execution": {
     "iopub.execute_input": "2024-08-05T14:42:50.057343Z",
     "iopub.status.busy": "2024-08-05T14:42:50.056160Z",
     "iopub.status.idle": "2024-08-05T14:42:50.070795Z",
     "shell.execute_reply": "2024-08-05T14:42:50.070107Z",
     "shell.execute_reply.started": "2024-08-05T14:42:50.057299Z"
    },
    "tags": []
   },
   "outputs": [
    {
     "name": "stdout",
     "output_type": "stream",
     "text": [
      "0\n",
      "о таком земельном участке);документы, удостоверяющие права на землю, а в случае их отсутствия - копи\n",
      "- - -\n",
      "1\n",
      "Гражданский кодекс. Статья 885. Последствия неоплаты чека. 1. В случае отказа плательщика от оплаты\n",
      "- - -\n",
      "2\n",
      "Гражданский кодекс. Статья 405. Просрочка должника. 1. Должник, просрочивший исполнение, отвечает п\n",
      "- - -\n",
      "3\n",
      "члены саморегулируемой организации с указанием причин отказа.Решение об отказе в приеме лица в члены\n",
      "- - -\n",
      "4\n",
      "Гражданский кодекс. Статья 241. Выкуп домашних животных при ненадлежащем обращении с ними. В случая\n",
      "- - -\n",
      "5\n",
      "Федеральный закон О рынке ценных бумаг. Статья 8.2. Счета, открываемые депозитариями и держателями р\n",
      "- - -\n",
      "6\n",
      "Трудовой кодекс. Статья 161. Разработка и утверждение типовых норм труда. Для однородных работ могу\n",
      "- - -\n",
      "7\n",
      "с заявлением об обеспечении иска.7. Определение арбитражного суда об отказе в обеспечении иска может\n",
      "- - -\n",
      "8\n",
      "Арбитражный процессуальный кодекс. Статья 6.1. Разумные сроки судопроизводства в арбитражных судах\n",
      "- - -\n",
      "9\n",
      "Гражданский кодекс. Статья 321. Исполнение обязательства, в котором участвуют несколько кредиторов \n",
      "- - -\n"
     ]
    }
   ],
   "source": [
    "for i, doc in enumerate(subset_docs_with_page_content):\n",
    "    print(i)\n",
    "    print(doc.page_content[:100])\n",
    "    print(\"- - -\")"
   ]
  },
  {
   "cell_type": "code",
   "execution_count": 147,
   "metadata": {
    "execution": {
     "iopub.execute_input": "2024-08-05T14:42:50.917567Z",
     "iopub.status.busy": "2024-08-05T14:42:50.916625Z",
     "iopub.status.idle": "2024-08-05T14:42:53.493532Z",
     "shell.execute_reply": "2024-08-05T14:42:53.492728Z",
     "shell.execute_reply.started": "2024-08-05T14:42:50.917524Z"
    },
    "tags": []
   },
   "outputs": [
    {
     "data": {
      "text/plain": [
       "['Гражданский кодекс. Статья 321. Исполнение обязательства, в котором участвуют несколько кредиторов или несколько должников. Если в обязательстве участвуют несколько кредиторов или несколько должников, то каждый из кредиторов имеет право требовать исполнения, а каждый из должников обязан исполнить обязательство в равной доле с другими постольку, поскольку из закона, иных правовых актов или условий обязательства не вытекает иное.',\n",
       " 'Гражданский кодекс. Статья 405. Просрочка должника. 1. Должник, просрочивший исполнение, отвечает перед кредитором за убытки, причиненные просрочкой, и за последствия случайно наступившей во время просрочки невозможности исполнения.2. Если вследствие просрочки должника исполнение утратило интерес для кредитора, он может отказаться от принятия исполнения и требовать возмещения убытков.3. Должник не считается просрочившим, пока обязательство не может быть исполнено вследствие просрочки кредитора.',\n",
       " 'Трудовой кодекс. Статья 161. Разработка и утверждение типовых норм труда. Для однородных работ могут разрабатываться и устанавливаться типовые (межотраслевые, отраслевые, профессиональные и иные) нормы труда. Типовые нормы труда разрабатываются и утверждаются в порядке, установленном уполномоченным Правительством Российской Федерации федеральным органом исполнительной власти.']"
      ]
     },
     "execution_count": 147,
     "metadata": {},
     "output_type": "execute_result"
    }
   ],
   "source": [
    "# reranker_dity\n",
    "\n",
    "get_reranked_docs(query, subset_docs_with_page_content, reranker_dity, k=3)"
   ]
  },
  {
   "cell_type": "code",
   "execution_count": 148,
   "metadata": {
    "execution": {
     "iopub.execute_input": "2024-08-05T14:43:05.759744Z",
     "iopub.status.busy": "2024-08-05T14:43:05.758811Z",
     "iopub.status.idle": "2024-08-05T14:43:08.928728Z",
     "shell.execute_reply": "2024-08-05T14:43:08.927952Z",
     "shell.execute_reply.started": "2024-08-05T14:43:05.759713Z"
    },
    "tags": []
   },
   "outputs": [
    {
     "data": {
      "text/plain": [
       "['Трудовой кодекс. Статья 161. Разработка и утверждение типовых норм труда. Для однородных работ могут разрабатываться и устанавливаться типовые (межотраслевые, отраслевые, профессиональные и иные) нормы труда. Типовые нормы труда разрабатываются и утверждаются в порядке, установленном уполномоченным Правительством Российской Федерации федеральным органом исполнительной власти.',\n",
       " 'о таком земельном участке);документы, удостоверяющие права на землю, а в случае их отсутствия - копия решения исполнительного органа государственной власти или органа местного самоуправления, предусмотренных статьей\\xa039.2 настоящего Кодекса, о предоставлении земельного участка.Исполнительный орган государственной власти или орган местного самоуправления, предусмотренные статьей\\xa039.2 настоящего Кодекса, запрашивает указанные документы (их копии, сведения, содержащиеся в них) в государственных органах, органах местного самоуправления и подведомственных государственным органам или органам местного самоуправления организациях, в распоряжении которых находятся указанные документы.Документы, удостоверяющие права на землю, запрашиваются у заявителя в случае, если они не находятся в распоряжении органов государственной власти, органов местного самоуправления либо подведомственных государственным органам или органам местного самоуправления организаций.4. При отказе от права постоянного (бессрочного) пользования земельным участком или права пожизненного наследуемого владения земельным участком исполнительный орган государственной власти или орган местного самоуправления, предусмотренные статьей 39.2 настоящего Кодекса, на основании заявления об отказе от права на земельный участок в месячный срок со дня получения такого заявления принимает решение о прекращении права постоянного (бессрочного) пользования земельным участком или права пожизненного наследуемого владения земельным участком.Копия указанного в настоящем пункте решения в трехдневный срок со дня его принятия направляется лицу, подавшему заявление об отказе от права на земельный участок.5. Право на земельный участок, не зарегистрированное в Едином государственном реестре недвижимости, прекращается у лица, подавшего заявление об отказе от права на земельный участок, с момента принятия решения, указанного в пункте 4 настоящей статьи, за исключением случая отказа от права на земельный участок, образуемый в соответствии с настоящим Кодексом.В случае, если право на земельный участок было ранее зарегистрировано в Едином государственном реестре недвижимости, исполнительный орган государственной власти или орган местного самоуправления, предусмотренные статьей 39.2 настоящего Кодекса, в недельный срок со дня принятия решения, указанного в пункте 4 настоящей статьи, обязан обратиться в орган регистрации прав для государственной регистрации прекращения права постоянного (бессрочного) пользования земельным участком или права пожизненного наследуемого владения земельным участком.6. Исполнительный орган государственной власти или орган местного самоуправления, предусмотренные статьей 39.2 настоящего Кодекса, обязан сообщить',\n",
       " 'с заявлением об обеспечении иска.7. Определение арбитражного суда об отказе в обеспечении иска может быть обжаловано. В случае вынесения арбитражным судом определения об обеспечении иска лицо, участвующее в деле, вправе обратиться с ходатайством об отмене обеспечения иска, которое подлежит рассмотрению в порядке, предусмотренном статьей 97 настоящего Кодекса. Подача ходатайства об отмене обеспечения иска не приостанавливает исполнение определения об обеспечении иска.8. Ходатайство об обеспечении иска, изложенное в исковом заявлении, рассматривается арбитражным судом в порядке, установленном настоящей статьей, и отдельно от других содержащихся в этом исковом заявлении ходатайств и требований.']"
      ]
     },
     "execution_count": 148,
     "metadata": {},
     "output_type": "execute_result"
    }
   ],
   "source": [
    "# reranker_xlm\n",
    "\n",
    "get_reranked_docs(query, subset_docs_with_page_content, reranker_xlm, k=3)"
   ]
  },
  {
   "cell_type": "code",
   "execution_count": 150,
   "metadata": {
    "execution": {
     "iopub.execute_input": "2024-08-05T14:44:32.922856Z",
     "iopub.status.busy": "2024-08-05T14:44:32.921847Z",
     "iopub.status.idle": "2024-08-05T14:44:32.950463Z",
     "shell.execute_reply": "2024-08-05T14:44:32.949587Z",
     "shell.execute_reply.started": "2024-08-05T14:44:32.922811Z"
    },
    "tags": []
   },
   "outputs": [],
   "source": [
    "query = \"Как выкупить домашнее животное\""
   ]
  },
  {
   "cell_type": "code",
   "execution_count": 151,
   "metadata": {
    "execution": {
     "iopub.execute_input": "2024-08-05T14:44:35.225192Z",
     "iopub.status.busy": "2024-08-05T14:44:35.224098Z",
     "iopub.status.idle": "2024-08-05T14:44:37.778766Z",
     "shell.execute_reply": "2024-08-05T14:44:37.778058Z",
     "shell.execute_reply.started": "2024-08-05T14:44:35.225130Z"
    }
   },
   "outputs": [
    {
     "data": {
      "text/plain": [
       "['Гражданский кодекс. Статья 405. Просрочка должника. 1. Должник, просрочивший исполнение, отвечает перед кредитором за убытки, причиненные просрочкой, и за последствия случайно наступившей во время просрочки невозможности исполнения.2. Если вследствие просрочки должника исполнение утратило интерес для кредитора, он может отказаться от принятия исполнения и требовать возмещения убытков.3. Должник не считается просрочившим, пока обязательство не может быть исполнено вследствие просрочки кредитора.',\n",
       " 'Гражданский кодекс. Статья 321. Исполнение обязательства, в котором участвуют несколько кредиторов или несколько должников. Если в обязательстве участвуют несколько кредиторов или несколько должников, то каждый из кредиторов имеет право требовать исполнения, а каждый из должников обязан исполнить обязательство в равной доле с другими постольку, поскольку из закона, иных правовых актов или условий обязательства не вытекает иное.',\n",
       " 'Трудовой кодекс. Статья 161. Разработка и утверждение типовых норм труда. Для однородных работ могут разрабатываться и устанавливаться типовые (межотраслевые, отраслевые, профессиональные и иные) нормы труда. Типовые нормы труда разрабатываются и утверждаются в порядке, установленном уполномоченным Правительством Российской Федерации федеральным органом исполнительной власти.']"
      ]
     },
     "execution_count": 151,
     "metadata": {},
     "output_type": "execute_result"
    }
   ],
   "source": [
    "# reranker_dity\n",
    "\n",
    "get_reranked_docs(query, subset_docs_with_page_content, reranker_dity, k=3)"
   ]
  },
  {
   "cell_type": "code",
   "execution_count": 152,
   "metadata": {
    "execution": {
     "iopub.execute_input": "2024-08-05T14:44:40.154447Z",
     "iopub.status.busy": "2024-08-05T14:44:40.153387Z",
     "iopub.status.idle": "2024-08-05T14:44:43.303356Z",
     "shell.execute_reply": "2024-08-05T14:44:43.302581Z",
     "shell.execute_reply.started": "2024-08-05T14:44:40.154405Z"
    },
    "tags": []
   },
   "outputs": [
    {
     "data": {
      "text/plain": [
       "['Трудовой кодекс. Статья 161. Разработка и утверждение типовых норм труда. Для однородных работ могут разрабатываться и устанавливаться типовые (межотраслевые, отраслевые, профессиональные и иные) нормы труда. Типовые нормы труда разрабатываются и утверждаются в порядке, установленном уполномоченным Правительством Российской Федерации федеральным органом исполнительной власти.',\n",
       " 'о таком земельном участке);документы, удостоверяющие права на землю, а в случае их отсутствия - копия решения исполнительного органа государственной власти или органа местного самоуправления, предусмотренных статьей\\xa039.2 настоящего Кодекса, о предоставлении земельного участка.Исполнительный орган государственной власти или орган местного самоуправления, предусмотренные статьей\\xa039.2 настоящего Кодекса, запрашивает указанные документы (их копии, сведения, содержащиеся в них) в государственных органах, органах местного самоуправления и подведомственных государственным органам или органам местного самоуправления организациях, в распоряжении которых находятся указанные документы.Документы, удостоверяющие права на землю, запрашиваются у заявителя в случае, если они не находятся в распоряжении органов государственной власти, органов местного самоуправления либо подведомственных государственным органам или органам местного самоуправления организаций.4. При отказе от права постоянного (бессрочного) пользования земельным участком или права пожизненного наследуемого владения земельным участком исполнительный орган государственной власти или орган местного самоуправления, предусмотренные статьей 39.2 настоящего Кодекса, на основании заявления об отказе от права на земельный участок в месячный срок со дня получения такого заявления принимает решение о прекращении права постоянного (бессрочного) пользования земельным участком или права пожизненного наследуемого владения земельным участком.Копия указанного в настоящем пункте решения в трехдневный срок со дня его принятия направляется лицу, подавшему заявление об отказе от права на земельный участок.5. Право на земельный участок, не зарегистрированное в Едином государственном реестре недвижимости, прекращается у лица, подавшего заявление об отказе от права на земельный участок, с момента принятия решения, указанного в пункте 4 настоящей статьи, за исключением случая отказа от права на земельный участок, образуемый в соответствии с настоящим Кодексом.В случае, если право на земельный участок было ранее зарегистрировано в Едином государственном реестре недвижимости, исполнительный орган государственной власти или орган местного самоуправления, предусмотренные статьей 39.2 настоящего Кодекса, в недельный срок со дня принятия решения, указанного в пункте 4 настоящей статьи, обязан обратиться в орган регистрации прав для государственной регистрации прекращения права постоянного (бессрочного) пользования земельным участком или права пожизненного наследуемого владения земельным участком.6. Исполнительный орган государственной власти или орган местного самоуправления, предусмотренные статьей 39.2 настоящего Кодекса, обязан сообщить',\n",
       " 'с заявлением об обеспечении иска.7. Определение арбитражного суда об отказе в обеспечении иска может быть обжаловано. В случае вынесения арбитражным судом определения об обеспечении иска лицо, участвующее в деле, вправе обратиться с ходатайством об отмене обеспечения иска, которое подлежит рассмотрению в порядке, предусмотренном статьей 97 настоящего Кодекса. Подача ходатайства об отмене обеспечения иска не приостанавливает исполнение определения об обеспечении иска.8. Ходатайство об обеспечении иска, изложенное в исковом заявлении, рассматривается арбитражным судом в порядке, установленном настоящей статьей, и отдельно от других содержащихся в этом исковом заявлении ходатайств и требований.']"
      ]
     },
     "execution_count": 152,
     "metadata": {},
     "output_type": "execute_result"
    }
   ],
   "source": [
    "# reranker_xlm\n",
    "\n",
    "get_reranked_docs(query, subset_docs_with_page_content, reranker_xlm, k=3)"
   ]
  },
  {
   "cell_type": "markdown",
   "metadata": {},
   "source": [
    "## LLM "
   ]
  },
  {
   "cell_type": "markdown",
   "metadata": {},
   "source": [
    "- Обращаемся по API к языковой модели\n",
    "- Возможно, нормализуем ответ \n",
    "- Формируем промт с `n` релевантыми документами и запросом пользователя\n",
    "- Возвращаем ответ модели"
   ]
  },
  {
   "cell_type": "markdown",
   "metadata": {},
   "source": [
    "## RAG"
   ]
  },
  {
   "cell_type": "markdown",
   "metadata": {},
   "source": [
    "- Формируем полный пайплан работы RAG-системы (https://python.langchain.com/v0.2/docs/tutorials/rag/#retrieval-and-generation-retrieve)"
   ]
  },
  {
   "cell_type": "code",
   "execution_count": null,
   "metadata": {},
   "outputs": [],
   "source": [
    "from langchain_core.output_parsers import StrOutputParser\n",
    "from langchain_core.runnables import RunnablePassthrough\n",
    "\n",
    "\n",
    "def format_docs(docs):\n",
    "    return \"\\n\\n\".join(doc.page_content for doc in docs)\n",
    "\n",
    "\n",
    "rag_chain = (\n",
    "    {\"context\": retriever | format_docs, \"question\": RunnablePassthrough()}\n",
    "    | prompt\n",
    "    | llm\n",
    "    | StrOutputParser()\n",
    ")\n",
    "\n",
    "for chunk in rag_chain.stream(\"What is Task Decomposition?\"):\n",
    "    print(chunk, end=\"\", flush=True)"
   ]
  },
  {
   "cell_type": "code",
   "execution_count": null,
   "metadata": {},
   "outputs": [],
   "source": []
  },
  {
   "cell_type": "code",
   "execution_count": null,
   "metadata": {},
   "outputs": [],
   "source": []
  }
 ],
 "metadata": {
  "kernelspec": {
   "display_name": "DataSphere Kernel",
   "language": "python",
   "name": "python3"
  },
  "language_info": {
   "codemirror_mode": {
    "name": "ipython",
    "version": 3
   },
   "file_extension": ".py",
   "mimetype": "text/x-python",
   "name": "python",
   "nbconvert_exporter": "python",
   "pygments_lexer": "ipython3",
   "version": "3.10.12"
  }
 },
 "nbformat": 4,
 "nbformat_minor": 4
}
